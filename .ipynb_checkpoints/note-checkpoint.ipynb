{
 "cells": [
  {
   "cell_type": "markdown",
   "metadata": {},
   "source": [
    "# Linear Regression: Least Squares\n",
    "\n",
    "## Linear Models\n",
    "* is a sum of weighted variables that predicts a target output value given an input instance \n"
   ]
  },
  {
   "cell_type": "markdown",
   "metadata": {},
   "source": [
    "* Example : Predicting House Prices\n",
    "\n",
    "    * House features:\n",
    "        * taxes per year , $X_{TAX}$\n",
    "        * age in years , $X_{AGE}$\n",
    "\n",
    "    * Model algorithms:</br></br>\n",
    "    \n",
    "        $\\hat{y}_{price} = 21200 + 109*X_{TAX} - 2000*X_{AGE}$ "
   ]
  },
  {
   "cell_type": "markdown",
   "metadata": {},
   "source": [
    "## Linear Regression\n",
    "* example of linear model\n",
    "* Input instance @ Feature vector : $X = (X_0,X_1,...,X_n)$\n",
    "* Predicted output : $\\hat{y} = \\hat{w}_0x_0 + \\hat{w_1}x_1 + ...\\hat{w_n}x_n + \\hat{b}$\n",
    "* Train Parameters to estimate : \n",
    "    * $\\hat{w} = (\\hat{w_0},...\\hat{w_n})$ : feature weights @ model coefficients @ slope\n",
    "    * $\\hat{b}$ : constat bias term @ intercept"
   ]
  },
  {
   "cell_type": "markdown",
   "metadata": {},
   "source": [
    "## Linear Regression Model with 1 Feature\n",
    "\n",
    "* Input instance : $X = (x_0)$\n",
    "* Predicted Output : $\\hat{y}=wx_0 + b$\n",
    "* Parameters to estimate :\n",
    "    * $w_0$\n",
    "    * $b$\n",
    "* Training data to estimate $w_0$ and $b$    "
   ]
  },
  {
   "cell_type": "markdown",
   "metadata": {},
   "source": [
    "## Method estimating w and b \n",
    "* is called **Least Squares** or **Ordinary Least Squares** linear regression\n",
    "* Find w and b that minimise the mean squared error the model \n",
    "* sum of squared error is the differences between the predicted target and actual target values"
   ]
  },
  {
   "cell_type": "markdown",
   "metadata": {},
   "source": [
    "### Residual Sum of Squares\n",
    "* minimise the sum of squared differences over the training data between training data and actual target values \n",
    "* mean squared error \n",
    "\n",
    "$RSS(w,b)$ = $\\Sigma_{i=1}^N(y_i - (wx_i + b))^2$"
   ]
  },
  {
   "cell_type": "markdown",
   "metadata": {},
   "source": [
    "```\n",
    "from sklearn.linear_model import LinearRegression\n",
    "X_train, X_test, y_train, y_test = \n",
    "    train_test_split(X_R1,y_R1, random_state = 0)\n",
    "\n",
    "linreg = LinearRegression().fit(X_train, y_train)\n",
    "\n",
    "\"Intercept :{}\".format(linreg.intercept_)\n",
    "\"Coeff :{}\".format(linreg.coef_)\n",
    "\"R squared score for Training :{:.3f}\".format(linreg.score(X_train,y_train))\n",
    "\"R squared score for Test :\n",
    "{:.3f}\".format(linreg.score(X_test, y_test))\n",
    "\n",
    "```\n",
    "\n",
    "```\n",
    "plt.figure(figsize=(5,4))\n",
    "plt.scatter(X_R1,y_R1,marker='o',s=50,alpha=0.8)\n",
    "plt.plot(x_R1,linreg.coef_ * X _R1 + linreg.intercept_,'r-')\n",
    "```"
   ]
  },
  {
   "cell_type": "code",
   "execution_count": null,
   "metadata": {},
   "outputs": [],
   "source": []
  }
 ],
 "metadata": {
  "kernelspec": {
   "display_name": "Python 3",
   "language": "python",
   "name": "python3"
  },
  "language_info": {
   "codemirror_mode": {
    "name": "ipython",
    "version": 3
   },
   "file_extension": ".py",
   "mimetype": "text/x-python",
   "name": "python",
   "nbconvert_exporter": "python",
   "pygments_lexer": "ipython3",
   "version": "3.7.5"
  }
 },
 "nbformat": 4,
 "nbformat_minor": 2
}
